{
 "cells": [
  {
   "cell_type": "code",
   "execution_count": 167,
   "id": "32a4f3b5",
   "metadata": {},
   "outputs": [],
   "source": [
    "# Importing libraries\n",
    "\n",
    "import numpy as np # linear algebra\n",
    "import pandas as pd # data processing\n",
    "from sklearn import preprocessing \n",
    "import matplotlib.pyplot as plt \n",
    "plt.rc(\"font\", size=14)\n",
    "from sklearn.pipeline import Pipeline \n",
    "from sklearn.model_selection import train_test_split\n",
    "import seaborn as sns\n",
    "\n",
    "sns.set(style=\"white\")\n",
    "sns.set(style=\"whitegrid\", color_codes=True)"
   ]
  },
  {
   "cell_type": "code",
   "execution_count": 169,
   "id": "192a5edf",
   "metadata": {},
   "outputs": [
    {
     "name": "stdout",
     "output_type": "stream",
     "text": [
      "['loanid', 'Delinquent?', 'installment_balance', 'revolving_balance', 'past_due_amount', 'monthly_payment', 'revolving_available_percent', 'total_inquiries', 'inquiries_during_last6_months', 'total_trade_items', 'paid_accounts', 'satisfactory_accounts', 'now_delinquent_derog', 'was_delinquent_derog', 'delinquencies30_days', 'delinquencies60_days', 'delinquencies90to180_days', 'job_start_date', 'fico_score', 'verified_income', 'bankruptcy_cases_last8_years', 'bankruptcy_cases_last_year', 'number_past_due_utility_rent', 'number_installment_charge_off', 'job_title']\n"
     ]
    }
   ],
   "source": [
    "# Preprocessing data\n",
    "\n",
    "df = pd.read_excel(\"C:\\\\Users\\\\Vivek\\\\Documents\\\\Interviews\\\\Viva Finance Underwriting Data.xlsx\", header=0) \n",
    "df = data.dropna()\n",
    "print(list(data.columns))"
   ]
  },
  {
   "cell_type": "code",
   "execution_count": 170,
   "id": "a599c9f2",
   "metadata": {},
   "outputs": [
    {
     "data": {
      "text/html": [
       "<div>\n",
       "<style scoped>\n",
       "    .dataframe tbody tr th:only-of-type {\n",
       "        vertical-align: middle;\n",
       "    }\n",
       "\n",
       "    .dataframe tbody tr th {\n",
       "        vertical-align: top;\n",
       "    }\n",
       "\n",
       "    .dataframe thead th {\n",
       "        text-align: right;\n",
       "    }\n",
       "</style>\n",
       "<table border=\"1\" class=\"dataframe\">\n",
       "  <thead>\n",
       "    <tr style=\"text-align: right;\">\n",
       "      <th></th>\n",
       "      <th>Delinquent?</th>\n",
       "      <th>installment_balance</th>\n",
       "      <th>revolving_balance</th>\n",
       "      <th>past_due_amount</th>\n",
       "      <th>monthly_payment</th>\n",
       "      <th>revolving_available_percent</th>\n",
       "      <th>total_inquiries</th>\n",
       "      <th>inquiries_during_last6_months</th>\n",
       "      <th>total_trade_items</th>\n",
       "      <th>paid_accounts</th>\n",
       "      <th>...</th>\n",
       "      <th>delinquencies60_days</th>\n",
       "      <th>delinquencies90to180_days</th>\n",
       "      <th>fico_score</th>\n",
       "      <th>verified_income</th>\n",
       "      <th>bankruptcy_cases_last8_years</th>\n",
       "      <th>bankruptcy_cases_last_year</th>\n",
       "      <th>number_past_due_utility_rent</th>\n",
       "      <th>number_installment_charge_off</th>\n",
       "      <th>job_title_Teacher</th>\n",
       "      <th>job_title_Teacher</th>\n",
       "    </tr>\n",
       "  </thead>\n",
       "  <tbody>\n",
       "    <tr>\n",
       "      <th>0</th>\n",
       "      <td>1</td>\n",
       "      <td>24606.0</td>\n",
       "      <td>2467</td>\n",
       "      <td>2194</td>\n",
       "      <td>1056</td>\n",
       "      <td>24</td>\n",
       "      <td>22</td>\n",
       "      <td>11</td>\n",
       "      <td>13</td>\n",
       "      <td>2</td>\n",
       "      <td>...</td>\n",
       "      <td>0</td>\n",
       "      <td>4</td>\n",
       "      <td>562</td>\n",
       "      <td>43254</td>\n",
       "      <td>9</td>\n",
       "      <td>0</td>\n",
       "      <td>1</td>\n",
       "      <td>2</td>\n",
       "      <td>False</td>\n",
       "      <td>False</td>\n",
       "    </tr>\n",
       "    <tr>\n",
       "      <th>1</th>\n",
       "      <td>0</td>\n",
       "      <td>64095.0</td>\n",
       "      <td>4799</td>\n",
       "      <td>15165</td>\n",
       "      <td>1298</td>\n",
       "      <td>54</td>\n",
       "      <td>53</td>\n",
       "      <td>16</td>\n",
       "      <td>45</td>\n",
       "      <td>25</td>\n",
       "      <td>...</td>\n",
       "      <td>8</td>\n",
       "      <td>20</td>\n",
       "      <td>481</td>\n",
       "      <td>61941</td>\n",
       "      <td>7</td>\n",
       "      <td>0</td>\n",
       "      <td>0</td>\n",
       "      <td>4</td>\n",
       "      <td>False</td>\n",
       "      <td>False</td>\n",
       "    </tr>\n",
       "    <tr>\n",
       "      <th>2</th>\n",
       "      <td>0</td>\n",
       "      <td>10138.0</td>\n",
       "      <td>1938</td>\n",
       "      <td>228</td>\n",
       "      <td>316</td>\n",
       "      <td>27</td>\n",
       "      <td>17</td>\n",
       "      <td>6</td>\n",
       "      <td>16</td>\n",
       "      <td>6</td>\n",
       "      <td>...</td>\n",
       "      <td>1</td>\n",
       "      <td>1</td>\n",
       "      <td>608</td>\n",
       "      <td>48426</td>\n",
       "      <td>6</td>\n",
       "      <td>1</td>\n",
       "      <td>0</td>\n",
       "      <td>1</td>\n",
       "      <td>False</td>\n",
       "      <td>False</td>\n",
       "    </tr>\n",
       "    <tr>\n",
       "      <th>3</th>\n",
       "      <td>0</td>\n",
       "      <td>7564.0</td>\n",
       "      <td>0</td>\n",
       "      <td>0</td>\n",
       "      <td>105</td>\n",
       "      <td>0</td>\n",
       "      <td>43</td>\n",
       "      <td>5</td>\n",
       "      <td>9</td>\n",
       "      <td>3</td>\n",
       "      <td>...</td>\n",
       "      <td>0</td>\n",
       "      <td>0</td>\n",
       "      <td>557</td>\n",
       "      <td>30029</td>\n",
       "      <td>6</td>\n",
       "      <td>0</td>\n",
       "      <td>0</td>\n",
       "      <td>0</td>\n",
       "      <td>False</td>\n",
       "      <td>False</td>\n",
       "    </tr>\n",
       "    <tr>\n",
       "      <th>4</th>\n",
       "      <td>1</td>\n",
       "      <td>54119.0</td>\n",
       "      <td>2339</td>\n",
       "      <td>1022</td>\n",
       "      <td>69</td>\n",
       "      <td>21</td>\n",
       "      <td>4</td>\n",
       "      <td>0</td>\n",
       "      <td>11</td>\n",
       "      <td>4</td>\n",
       "      <td>...</td>\n",
       "      <td>1</td>\n",
       "      <td>2</td>\n",
       "      <td>527</td>\n",
       "      <td>56250</td>\n",
       "      <td>6</td>\n",
       "      <td>0</td>\n",
       "      <td>0</td>\n",
       "      <td>0</td>\n",
       "      <td>False</td>\n",
       "      <td>False</td>\n",
       "    </tr>\n",
       "  </tbody>\n",
       "</table>\n",
       "<p>5 rows × 24 columns</p>\n",
       "</div>"
      ],
      "text/plain": [
       "   Delinquent?  installment_balance  revolving_balance  past_due_amount  \\\n",
       "0            1              24606.0               2467             2194   \n",
       "1            0              64095.0               4799            15165   \n",
       "2            0              10138.0               1938              228   \n",
       "3            0               7564.0                  0                0   \n",
       "4            1              54119.0               2339             1022   \n",
       "\n",
       "   monthly_payment  revolving_available_percent  total_inquiries  \\\n",
       "0             1056                           24               22   \n",
       "1             1298                           54               53   \n",
       "2              316                           27               17   \n",
       "3              105                            0               43   \n",
       "4               69                           21                4   \n",
       "\n",
       "   inquiries_during_last6_months  total_trade_items  paid_accounts  ...  \\\n",
       "0                             11                 13              2  ...   \n",
       "1                             16                 45             25  ...   \n",
       "2                              6                 16              6  ...   \n",
       "3                              5                  9              3  ...   \n",
       "4                              0                 11              4  ...   \n",
       "\n",
       "   delinquencies60_days  delinquencies90to180_days  fico_score  \\\n",
       "0                     0                          4         562   \n",
       "1                     8                         20         481   \n",
       "2                     1                          1         608   \n",
       "3                     0                          0         557   \n",
       "4                     1                          2         527   \n",
       "\n",
       "   verified_income  bankruptcy_cases_last8_years  bankruptcy_cases_last_year  \\\n",
       "0            43254                             9                           0   \n",
       "1            61941                             7                           0   \n",
       "2            48426                             6                           1   \n",
       "3            30029                             6                           0   \n",
       "4            56250                             6                           0   \n",
       "\n",
       "   number_past_due_utility_rent  number_installment_charge_off  \\\n",
       "0                             1                              2   \n",
       "1                             0                              4   \n",
       "2                             0                              1   \n",
       "3                             0                              0   \n",
       "4                             0                              0   \n",
       "\n",
       "   job_title_Teacher  job_title_Teacher   \n",
       "0              False               False  \n",
       "1              False               False  \n",
       "2              False               False  \n",
       "3              False               False  \n",
       "4              False               False  \n",
       "\n",
       "[5 rows x 24 columns]"
      ]
     },
     "execution_count": 170,
     "metadata": {},
     "output_type": "execute_result"
    }
   ],
   "source": [
    "# Split data in training and testing sets\n",
    "\n",
    "df_dummies = pd.get_dummies(df)\n",
    "\n",
    "df_dummies.drop(drop_columns, axis=1, inplace=True)\n",
    "\n",
    "X = df_dummies.drop('Delinquent?', axis=1)\n",
    "y = df_dummies['Delinquent?']\n",
    "\n",
    "df_dummies.head()"
   ]
  },
  {
   "cell_type": "code",
   "execution_count": 86,
   "id": "bd986fd1",
   "metadata": {},
   "outputs": [
    {
     "data": {
      "text/html": [
       "<style>#sk-container-id-10 {color: black;}#sk-container-id-10 pre{padding: 0;}#sk-container-id-10 div.sk-toggleable {background-color: white;}#sk-container-id-10 label.sk-toggleable__label {cursor: pointer;display: block;width: 100%;margin-bottom: 0;padding: 0.3em;box-sizing: border-box;text-align: center;}#sk-container-id-10 label.sk-toggleable__label-arrow:before {content: \"▸\";float: left;margin-right: 0.25em;color: #696969;}#sk-container-id-10 label.sk-toggleable__label-arrow:hover:before {color: black;}#sk-container-id-10 div.sk-estimator:hover label.sk-toggleable__label-arrow:before {color: black;}#sk-container-id-10 div.sk-toggleable__content {max-height: 0;max-width: 0;overflow: hidden;text-align: left;background-color: #f0f8ff;}#sk-container-id-10 div.sk-toggleable__content pre {margin: 0.2em;color: black;border-radius: 0.25em;background-color: #f0f8ff;}#sk-container-id-10 input.sk-toggleable__control:checked~div.sk-toggleable__content {max-height: 200px;max-width: 100%;overflow: auto;}#sk-container-id-10 input.sk-toggleable__control:checked~label.sk-toggleable__label-arrow:before {content: \"▾\";}#sk-container-id-10 div.sk-estimator input.sk-toggleable__control:checked~label.sk-toggleable__label {background-color: #d4ebff;}#sk-container-id-10 div.sk-label input.sk-toggleable__control:checked~label.sk-toggleable__label {background-color: #d4ebff;}#sk-container-id-10 input.sk-hidden--visually {border: 0;clip: rect(1px 1px 1px 1px);clip: rect(1px, 1px, 1px, 1px);height: 1px;margin: -1px;overflow: hidden;padding: 0;position: absolute;width: 1px;}#sk-container-id-10 div.sk-estimator {font-family: monospace;background-color: #f0f8ff;border: 1px dotted black;border-radius: 0.25em;box-sizing: border-box;margin-bottom: 0.5em;}#sk-container-id-10 div.sk-estimator:hover {background-color: #d4ebff;}#sk-container-id-10 div.sk-parallel-item::after {content: \"\";width: 100%;border-bottom: 1px solid gray;flex-grow: 1;}#sk-container-id-10 div.sk-label:hover label.sk-toggleable__label {background-color: #d4ebff;}#sk-container-id-10 div.sk-serial::before {content: \"\";position: absolute;border-left: 1px solid gray;box-sizing: border-box;top: 0;bottom: 0;left: 50%;z-index: 0;}#sk-container-id-10 div.sk-serial {display: flex;flex-direction: column;align-items: center;background-color: white;padding-right: 0.2em;padding-left: 0.2em;position: relative;}#sk-container-id-10 div.sk-item {position: relative;z-index: 1;}#sk-container-id-10 div.sk-parallel {display: flex;align-items: stretch;justify-content: center;background-color: white;position: relative;}#sk-container-id-10 div.sk-item::before, #sk-container-id-10 div.sk-parallel-item::before {content: \"\";position: absolute;border-left: 1px solid gray;box-sizing: border-box;top: 0;bottom: 0;left: 50%;z-index: -1;}#sk-container-id-10 div.sk-parallel-item {display: flex;flex-direction: column;z-index: 1;position: relative;background-color: white;}#sk-container-id-10 div.sk-parallel-item:first-child::after {align-self: flex-end;width: 50%;}#sk-container-id-10 div.sk-parallel-item:last-child::after {align-self: flex-start;width: 50%;}#sk-container-id-10 div.sk-parallel-item:only-child::after {width: 0;}#sk-container-id-10 div.sk-dashed-wrapped {border: 1px dashed gray;margin: 0 0.4em 0.5em 0.4em;box-sizing: border-box;padding-bottom: 0.4em;background-color: white;}#sk-container-id-10 div.sk-label label {font-family: monospace;font-weight: bold;display: inline-block;line-height: 1.2em;}#sk-container-id-10 div.sk-label-container {text-align: center;}#sk-container-id-10 div.sk-container {/* jupyter's `normalize.less` sets `[hidden] { display: none; }` but bootstrap.min.css set `[hidden] { display: none !important; }` so we also need the `!important` here to be able to override the default hidden behavior on the sphinx rendered scikit-learn.org. See: https://github.com/scikit-learn/scikit-learn/issues/21755 */display: inline-block !important;position: relative;}#sk-container-id-10 div.sk-text-repr-fallback {display: none;}</style><div id=\"sk-container-id-10\" class=\"sk-top-container\"><div class=\"sk-text-repr-fallback\"><pre>Pipeline(steps=[(&#x27;scaler&#x27;, MinMaxScaler()),\n",
       "                (&#x27;clf&#x27;,\n",
       "                 LogisticRegression(C=0.01, penalty=&#x27;l1&#x27;, solver=&#x27;liblinear&#x27;))])</pre><b>In a Jupyter environment, please rerun this cell to show the HTML representation or trust the notebook. <br />On GitHub, the HTML representation is unable to render, please try loading this page with nbviewer.org.</b></div><div class=\"sk-container\" hidden><div class=\"sk-item sk-dashed-wrapped\"><div class=\"sk-label-container\"><div class=\"sk-label sk-toggleable\"><input class=\"sk-toggleable__control sk-hidden--visually\" id=\"sk-estimator-id-22\" type=\"checkbox\" ><label for=\"sk-estimator-id-22\" class=\"sk-toggleable__label sk-toggleable__label-arrow\">Pipeline</label><div class=\"sk-toggleable__content\"><pre>Pipeline(steps=[(&#x27;scaler&#x27;, MinMaxScaler()),\n",
       "                (&#x27;clf&#x27;,\n",
       "                 LogisticRegression(C=0.01, penalty=&#x27;l1&#x27;, solver=&#x27;liblinear&#x27;))])</pre></div></div></div><div class=\"sk-serial\"><div class=\"sk-item\"><div class=\"sk-estimator sk-toggleable\"><input class=\"sk-toggleable__control sk-hidden--visually\" id=\"sk-estimator-id-23\" type=\"checkbox\" ><label for=\"sk-estimator-id-23\" class=\"sk-toggleable__label sk-toggleable__label-arrow\">MinMaxScaler</label><div class=\"sk-toggleable__content\"><pre>MinMaxScaler()</pre></div></div></div><div class=\"sk-item\"><div class=\"sk-estimator sk-toggleable\"><input class=\"sk-toggleable__control sk-hidden--visually\" id=\"sk-estimator-id-24\" type=\"checkbox\" ><label for=\"sk-estimator-id-24\" class=\"sk-toggleable__label sk-toggleable__label-arrow\">LogisticRegression</label><div class=\"sk-toggleable__content\"><pre>LogisticRegression(C=0.01, penalty=&#x27;l1&#x27;, solver=&#x27;liblinear&#x27;)</pre></div></div></div></div></div></div></div>"
      ],
      "text/plain": [
       "Pipeline(steps=[('scaler', MinMaxScaler()),\n",
       "                ('clf',\n",
       "                 LogisticRegression(C=0.01, penalty='l1', solver='liblinear'))])"
      ]
     },
     "execution_count": 86,
     "metadata": {},
     "output_type": "execute_result"
    }
   ],
   "source": [
    "# Fit a logistic regression model\n",
    "\n",
    "from sklearn.model_selection import train_test_split\n",
    "X_train, X_test, y_train, y_test = train_test_split(X, y, test_size=0.2, random_state=0)\n",
    "\n",
    "from sklearn.linear_model import LogisticRegression\n",
    "from sklearn.preprocessing import MinMaxScaler\n",
    "from sklearn.pipeline import Pipeline\n",
    "\n",
    "sc = MinMaxScaler()\n",
    "lr = LogisticRegression(penalty='l1', C=0.01, solver='liblinear')\n",
    "\n",
    "model = Pipeline([('scaler', sc), ('clf', lr)])\n",
    "model.fit(X_train, y_train)"
   ]
  },
  {
   "cell_type": "code",
   "execution_count": 84,
   "id": "af1d949c",
   "metadata": {},
   "outputs": [
    {
     "name": "stderr",
     "output_type": "stream",
     "text": [
      "C:\\Users\\Vivek\\anaconda3\\Lib\\site-packages\\sklearn\\linear_model\\_logistic.py:460: ConvergenceWarning: lbfgs failed to converge (status=1):\n",
      "STOP: TOTAL NO. of ITERATIONS REACHED LIMIT.\n",
      "\n",
      "Increase the number of iterations (max_iter) or scale the data as shown in:\n",
      "    https://scikit-learn.org/stable/modules/preprocessing.html\n",
      "Please also refer to the documentation for alternative solver options:\n",
      "    https://scikit-learn.org/stable/modules/linear_model.html#logistic-regression\n",
      "  n_iter_i = _check_optimize_result(\n",
      "C:\\Users\\Vivek\\anaconda3\\Lib\\site-packages\\sklearn\\linear_model\\_logistic.py:460: ConvergenceWarning: lbfgs failed to converge (status=1):\n",
      "STOP: TOTAL NO. of ITERATIONS REACHED LIMIT.\n",
      "\n",
      "Increase the number of iterations (max_iter) or scale the data as shown in:\n",
      "    https://scikit-learn.org/stable/modules/preprocessing.html\n",
      "Please also refer to the documentation for alternative solver options:\n",
      "    https://scikit-learn.org/stable/modules/linear_model.html#logistic-regression\n",
      "  n_iter_i = _check_optimize_result(\n"
     ]
    },
    {
     "name": "stdout",
     "output_type": "stream",
     "text": [
      "[False  True False  True  True  True  True  True  True  True  True  True\n",
      "  True  True  True  True False  True  True  True  True  True  True]\n",
      "[3 1 2 1 1 1 1 1 1 1 1 1 1 1 1 1 4 1 1 1 1 1 1]\n"
     ]
    },
    {
     "name": "stderr",
     "output_type": "stream",
     "text": [
      "C:\\Users\\Vivek\\anaconda3\\Lib\\site-packages\\sklearn\\linear_model\\_logistic.py:460: ConvergenceWarning: lbfgs failed to converge (status=1):\n",
      "STOP: TOTAL NO. of ITERATIONS REACHED LIMIT.\n",
      "\n",
      "Increase the number of iterations (max_iter) or scale the data as shown in:\n",
      "    https://scikit-learn.org/stable/modules/preprocessing.html\n",
      "Please also refer to the documentation for alternative solver options:\n",
      "    https://scikit-learn.org/stable/modules/linear_model.html#logistic-regression\n",
      "  n_iter_i = _check_optimize_result(\n",
      "C:\\Users\\Vivek\\anaconda3\\Lib\\site-packages\\sklearn\\linear_model\\_logistic.py:460: ConvergenceWarning: lbfgs failed to converge (status=1):\n",
      "STOP: TOTAL NO. of ITERATIONS REACHED LIMIT.\n",
      "\n",
      "Increase the number of iterations (max_iter) or scale the data as shown in:\n",
      "    https://scikit-learn.org/stable/modules/preprocessing.html\n",
      "Please also refer to the documentation for alternative solver options:\n",
      "    https://scikit-learn.org/stable/modules/linear_model.html#logistic-regression\n",
      "  n_iter_i = _check_optimize_result(\n"
     ]
    }
   ],
   "source": [
    "# Performing Recusive Feature Selection to select relevant variables\n",
    "\n",
    "from sklearn.feature_selection import RFE\n",
    "rfe = RFE(logreg, n_features_to_select=20)\n",
    "rfe = rfe.fit(X_train, y_train)\n",
    "print(rfe.support_)\n",
    "print(rfe.ranking_)"
   ]
  },
  {
   "cell_type": "code",
   "execution_count": 75,
   "id": "8622d735",
   "metadata": {},
   "outputs": [
    {
     "data": {
      "text/plain": [
       "0.7939655172413793"
      ]
     },
     "execution_count": 75,
     "metadata": {},
     "output_type": "execute_result"
    }
   ],
   "source": [
    "# Testing model accuracy\n",
    "\n",
    "model.score(X_train, y_train)"
   ]
  },
  {
   "cell_type": "code",
   "execution_count": 76,
   "id": "5688c441",
   "metadata": {},
   "outputs": [
    {
     "name": "stdout",
     "output_type": "stream",
     "text": [
      "fico_score :  -1.13\n",
      "installment_balance :  0.0\n",
      "number_installment_charge_off :  0.0\n",
      "number_past_due_utility_rent :  0.0\n",
      "bankruptcy_cases_last_year :  0.0\n",
      "bankruptcy_cases_last8_years :  0.0\n",
      "verified_income :  0.0\n",
      "delinquencies90to180_days :  0.0\n",
      "delinquencies60_days :  0.0\n",
      "delinquencies30_days :  0.0\n",
      "job_title_Teacher :  0.0\n",
      "was_delinquent_derog :  0.0\n",
      "satisfactory_accounts :  0.0\n",
      "paid_accounts :  0.0\n",
      "total_trade_items :  0.0\n",
      "inquiries_during_last6_months :  0.0\n",
      "total_inquiries :  0.0\n",
      "revolving_available_percent :  0.0\n",
      "monthly_payment :  0.0\n",
      "past_due_amount :  0.0\n",
      "revolving_balance :  0.0\n",
      "now_delinquent_derog :  0.0\n",
      "job_title_Teacher  :  0.0\n"
     ]
    }
   ],
   "source": [
    "# Which features are the most important\n",
    "\n",
    "for i in np.argsort(-np.abs(model.named_steps['clf'].coef_[0])):\n",
    "    print(X.columns[i], ': ', round(model.named_steps['clf'].coef_[0,i], 2))"
   ]
  },
  {
   "cell_type": "code",
   "execution_count": 77,
   "id": "b8b745d9",
   "metadata": {},
   "outputs": [
    {
     "name": "stdout",
     "output_type": "stream",
     "text": [
      "ROC-AUC-score:  0.6352685851807116\n"
     ]
    },
    {
     "data": {
      "image/png": "[encoded data removed]",
      "text/plain": [
       "<Figure size 640x480 with 1 Axes>"
      ]
     },
     "metadata": {},
     "output_type": "display_data"
    }
   ],
   "source": [
    "# Plotting the ROC curve using the false positive rate (fpr) and true positive rate (tpr).\n",
    "\n",
    "test_probas = model.predict_proba(X_test)[:,1]\n",
    "\n",
    "from sklearn.metrics import roc_auc_score\n",
    "from sklearn.metrics import roc_curve\n",
    "from sklearn.metrics import accuracy_score\n",
    "\n",
    "fpr, tpr, tresholds = roc_curve(y_test, test_probas)\n",
    "plt.plot(fpr, tpr)\n",
    "plt.title('ROC')\n",
    "plt.xlabel('FPR')\n",
    "plt.ylabel('TPR')\n",
    "\n",
    "print('ROC-AUC-score: ', roc_auc_score(y_test, test_probas))"
   ]
  },
  {
   "cell_type": "code",
   "execution_count": 158,
   "id": "3218f7b4",
   "metadata": {},
   "outputs": [
    {
     "name": "stdout",
     "output_type": "stream",
     "text": [
      "          0\n",
      "0  0.222016\n",
      "1  0.219378\n",
      "2  0.234162\n",
      "3  0.173554\n",
      "4  0.219378\n",
      "5  0.245814\n",
      "6  0.194249\n",
      "7  0.234621\n",
      "8  0.218941\n",
      "9  0.245814\n"
     ]
    }
   ],
   "source": [
    "# Display probabilities of top 10 rows\n",
    "\n",
    "probabilities = pd.DataFrame(test_probas)\n",
    "print(probabilities.head(10))"
   ]
  },
  {
   "cell_type": "code",
   "execution_count": 164,
   "id": "88777e87",
   "metadata": {},
   "outputs": [
    {
     "data": {
      "text/plain": [
       "count     11600.000000\n",
       "mean       6185.318276\n",
       "std       10880.156215\n",
       "min           0.000000\n",
       "25%         850.750000\n",
       "50%        2712.000000\n",
       "75%        7234.250000\n",
       "max      288712.000000\n",
       "Name: revolving_balance, dtype: float64"
      ]
     },
     "execution_count": 164,
     "metadata": {},
     "output_type": "execute_result"
    }
   ],
   "source": [
    "# Descriptive statistics for revolving balances, incomes, and FICO scores\n",
    "\n",
    "X_train['revolving_balance'].describe()"
   ]
  },
  {
   "cell_type": "code",
   "execution_count": 161,
   "id": "b28d570f",
   "metadata": {},
   "outputs": [
    {
     "data": {
      "text/plain": [
       "count    1.160000e+04\n",
       "mean     4.490915e+04\n",
       "std      1.306771e+05\n",
       "min      5.000000e+01\n",
       "25%      2.889900e+04\n",
       "50%      3.790400e+04\n",
       "75%      4.970200e+04\n",
       "max      6.441462e+06\n",
       "Name: verified_income, dtype: float64"
      ]
     },
     "execution_count": 161,
     "metadata": {},
     "output_type": "execute_result"
    }
   ],
   "source": [
    "X_train['verified_income'].describe()"
   ]
  },
  {
   "cell_type": "code",
   "execution_count": 162,
   "id": "688840fa",
   "metadata": {},
   "outputs": [
    {
     "data": {
      "text/plain": [
       "count    11600.000000\n",
       "mean       578.559310\n",
       "std         47.650507\n",
       "min        371.000000\n",
       "25%        548.000000\n",
       "50%        572.000000\n",
       "75%        604.000000\n",
       "max        813.000000\n",
       "Name: fico_score, dtype: float64"
      ]
     },
     "execution_count": 162,
     "metadata": {},
     "output_type": "execute_result"
    }
   ],
   "source": [
    "X_train['fico_score'].describe()"
   ]
  }
 ],
 "metadata": {
  "kernelspec": {
   "display_name": "Python 3 (ipykernel)",
   "language": "python",
   "name": "python3"
  },
  "language_info": {
   "codemirror_mode": {
    "name": "ipython",
    "version": 3
   },
   "file_extension": ".py",
   "mimetype": "text/x-python",
   "name": "python",
   "nbconvert_exporter": "python",
   "pygments_lexer": "ipython3",
   "version": "3.11.5"
  }
 },
 "nbformat": 4,
 "nbformat_minor": 5
}
